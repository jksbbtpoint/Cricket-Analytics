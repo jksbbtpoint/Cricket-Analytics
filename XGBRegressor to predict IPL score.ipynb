{
 "cells": [
  {
   "cell_type": "code",
   "execution_count": 66,
   "id": "e32af82f",
   "metadata": {},
   "outputs": [],
   "source": [
    "import pandas as pd\n",
    "import numpy as np\n",
    "from sklearn.model_selection import train_test_split\n",
    "from sklearn.linear_model import LinearRegression\n",
    "import pickle\n",
    "from sklearn.metrics import mean_absolute_error"
   ]
  },
  {
   "cell_type": "markdown",
   "id": "2b53c964",
   "metadata": {},
   "source": [
    "## Feature Engineering"
   ]
  },
  {
   "cell_type": "code",
   "execution_count": 67,
   "id": "6651618b",
   "metadata": {},
   "outputs": [],
   "source": [
    "df = pd.read_csv('IPL_DATA_FEATURES.csv')"
   ]
  },
  {
   "cell_type": "code",
   "execution_count": 68,
   "id": "f56ed9bd",
   "metadata": {},
   "outputs": [
    {
     "data": {
      "text/plain": [
       "(222275, 21)"
      ]
     },
     "execution_count": 68,
     "metadata": {},
     "output_type": "execute_result"
    }
   ],
   "source": [
    "df.shape"
   ]
  },
  {
   "cell_type": "code",
   "execution_count": 69,
   "id": "1a168cf5",
   "metadata": {},
   "outputs": [
    {
     "data": {
      "text/plain": [
       "array([ 0,  1,  2,  3,  4,  5,  6,  7,  8,  9, 10, 11, 12, 13, 14, 15, 16,\n",
       "       17, 18, 19])"
      ]
     },
     "execution_count": 69,
     "metadata": {},
     "output_type": "execute_result"
    }
   ],
   "source": [
    "df['overno'].unique()"
   ]
  },
  {
   "cell_type": "code",
   "execution_count": 90,
   "id": "eb65c5ca",
   "metadata": {},
   "outputs": [
    {
     "data": {
      "text/html": [
       "<div>\n",
       "<style scoped>\n",
       "    .dataframe tbody tr th:only-of-type {\n",
       "        vertical-align: middle;\n",
       "    }\n",
       "\n",
       "    .dataframe tbody tr th {\n",
       "        vertical-align: top;\n",
       "    }\n",
       "\n",
       "    .dataframe thead th {\n",
       "        text-align: right;\n",
       "    }\n",
       "</style>\n",
       "<table border=\"1\" class=\"dataframe\">\n",
       "  <thead>\n",
       "    <tr style=\"text-align: right;\">\n",
       "      <th></th>\n",
       "      <th>match_id</th>\n",
       "      <th>innings</th>\n",
       "      <th>venue</th>\n",
       "      <th>batting_team</th>\n",
       "      <th>bowling_team</th>\n",
       "      <th>ball</th>\n",
       "      <th>overno</th>\n",
       "      <th>ballno</th>\n",
       "      <th>total_runs</th>\n",
       "      <th>player_dismissed</th>\n",
       "      <th>...</th>\n",
       "      <th>ball_left</th>\n",
       "      <th>inning_total</th>\n",
       "      <th>cum_sum</th>\n",
       "      <th>remaining_runs</th>\n",
       "      <th>prev_30_balls_runs</th>\n",
       "      <th>player_dismissed_in_last_30balls</th>\n",
       "      <th>cum_wkts</th>\n",
       "      <th>wkts_left</th>\n",
       "      <th>dot_in_prev_30balls</th>\n",
       "      <th>boundaries_prev_30balls</th>\n",
       "    </tr>\n",
       "  </thead>\n",
       "  <tbody>\n",
       "    <tr>\n",
       "      <th>0</th>\n",
       "      <td>335982</td>\n",
       "      <td>1</td>\n",
       "      <td>M Chinnaswamy Stadium</td>\n",
       "      <td>Kolkata Knight Riders</td>\n",
       "      <td>Royal Challengers Bangalore</td>\n",
       "      <td>0.1</td>\n",
       "      <td>0</td>\n",
       "      <td>1</td>\n",
       "      <td>1</td>\n",
       "      <td>0</td>\n",
       "      <td>...</td>\n",
       "      <td>119</td>\n",
       "      <td>222</td>\n",
       "      <td>1</td>\n",
       "      <td>221</td>\n",
       "      <td>1</td>\n",
       "      <td>0</td>\n",
       "      <td>0</td>\n",
       "      <td>10</td>\n",
       "      <td>0</td>\n",
       "      <td>0</td>\n",
       "    </tr>\n",
       "    <tr>\n",
       "      <th>1</th>\n",
       "      <td>335982</td>\n",
       "      <td>1</td>\n",
       "      <td>M Chinnaswamy Stadium</td>\n",
       "      <td>Kolkata Knight Riders</td>\n",
       "      <td>Royal Challengers Bangalore</td>\n",
       "      <td>0.2</td>\n",
       "      <td>0</td>\n",
       "      <td>2</td>\n",
       "      <td>0</td>\n",
       "      <td>0</td>\n",
       "      <td>...</td>\n",
       "      <td>118</td>\n",
       "      <td>222</td>\n",
       "      <td>1</td>\n",
       "      <td>221</td>\n",
       "      <td>1</td>\n",
       "      <td>0</td>\n",
       "      <td>0</td>\n",
       "      <td>10</td>\n",
       "      <td>1</td>\n",
       "      <td>0</td>\n",
       "    </tr>\n",
       "  </tbody>\n",
       "</table>\n",
       "<p>2 rows × 21 columns</p>\n",
       "</div>"
      ],
      "text/plain": [
       "   match_id  innings                  venue           batting_team  \\\n",
       "0    335982        1  M Chinnaswamy Stadium  Kolkata Knight Riders   \n",
       "1    335982        1  M Chinnaswamy Stadium  Kolkata Knight Riders   \n",
       "\n",
       "                  bowling_team  ball  overno  ballno  total_runs  \\\n",
       "0  Royal Challengers Bangalore   0.1       0       1           1   \n",
       "1  Royal Challengers Bangalore   0.2       0       2           0   \n",
       "\n",
       "   player_dismissed  ...  ball_left  inning_total  cum_sum  remaining_runs  \\\n",
       "0                 0  ...        119           222        1             221   \n",
       "1                 0  ...        118           222        1             221   \n",
       "\n",
       "   prev_30_balls_runs  player_dismissed_in_last_30balls  cum_wkts  wkts_left  \\\n",
       "0                   1                                 0         0         10   \n",
       "1                   1                                 0         0         10   \n",
       "\n",
       "   dot_in_prev_30balls  boundaries_prev_30balls  \n",
       "0                    0                        0  \n",
       "1                    1                        0  \n",
       "\n",
       "[2 rows x 21 columns]"
      ]
     },
     "execution_count": 90,
     "metadata": {},
     "output_type": "execute_result"
    }
   ],
   "source": [
    "df.head(2)"
   ]
  },
  {
   "cell_type": "markdown",
   "id": "8ade58e1",
   "metadata": {},
   "source": [
    "## All teams"
   ]
  },
  {
   "cell_type": "code",
   "execution_count": 6,
   "id": "6e94f04e",
   "metadata": {},
   "outputs": [
    {
     "data": {
      "text/plain": [
       "array(['Kolkata Knight Riders', 'Royal Challengers Bangalore',\n",
       "       'Chennai Super Kings', 'Kings XI Punjab', 'Rajasthan Royals',\n",
       "       'Delhi Daredevils', 'Deccan Chargers', 'Mumbai Indians',\n",
       "       'Kochi Tuskers Kerala', 'Pune Warriors', 'Sunrisers Hyderabad',\n",
       "       'Rising Pune Supergiants', 'Gujarat Lions',\n",
       "       'Rising Pune Supergiant', 'Delhi Capitals', 'Punjab Kings',\n",
       "       'Lucknow Super Giants', 'Gujarat Titans'], dtype=object)"
      ]
     },
     "execution_count": 6,
     "metadata": {},
     "output_type": "execute_result"
    }
   ],
   "source": [
    "df['batting_team'].unique()"
   ]
  },
  {
   "cell_type": "code",
   "execution_count": 7,
   "id": "35eb9047",
   "metadata": {},
   "outputs": [],
   "source": [
    "df['batting_team'] = np.where(df['batting_team']=='Rising Pune Supergiant','Rising Pune Supergiants',df['batting_team'])"
   ]
  },
  {
   "cell_type": "code",
   "execution_count": 8,
   "id": "83168e62",
   "metadata": {},
   "outputs": [
    {
     "data": {
      "text/plain": [
       "array(['Kolkata Knight Riders', 'Royal Challengers Bangalore',\n",
       "       'Chennai Super Kings', 'Kings XI Punjab', 'Rajasthan Royals',\n",
       "       'Delhi Daredevils', 'Deccan Chargers', 'Mumbai Indians',\n",
       "       'Kochi Tuskers Kerala', 'Pune Warriors', 'Sunrisers Hyderabad',\n",
       "       'Rising Pune Supergiants', 'Gujarat Lions', 'Delhi Capitals',\n",
       "       'Punjab Kings', 'Lucknow Super Giants', 'Gujarat Titans'],\n",
       "      dtype=object)"
      ]
     },
     "execution_count": 8,
     "metadata": {},
     "output_type": "execute_result"
    }
   ],
   "source": [
    "df['batting_team'].unique()"
   ]
  },
  {
   "cell_type": "code",
   "execution_count": 9,
   "id": "9fad3b6e",
   "metadata": {},
   "outputs": [],
   "source": [
    "df['bowling_team'] = np.where(df['bowling_team']=='Rising Pune Supergiant','Rising Pune Supergiants',df['bowling_team'])"
   ]
  },
  {
   "cell_type": "code",
   "execution_count": 10,
   "id": "9e3bcf56",
   "metadata": {},
   "outputs": [
    {
     "data": {
      "text/plain": [
       "array(['Royal Challengers Bangalore', 'Kolkata Knight Riders',\n",
       "       'Kings XI Punjab', 'Chennai Super Kings', 'Delhi Daredevils',\n",
       "       'Rajasthan Royals', 'Deccan Chargers', 'Mumbai Indians',\n",
       "       'Kochi Tuskers Kerala', 'Pune Warriors', 'Sunrisers Hyderabad',\n",
       "       'Rising Pune Supergiants', 'Gujarat Lions', 'Delhi Capitals',\n",
       "       'Punjab Kings', 'Gujarat Titans', 'Lucknow Super Giants'],\n",
       "      dtype=object)"
      ]
     },
     "execution_count": 10,
     "metadata": {},
     "output_type": "execute_result"
    }
   ],
   "source": [
    "df['bowling_team'].unique()"
   ]
  },
  {
   "cell_type": "code",
   "execution_count": 11,
   "id": "112eaddc",
   "metadata": {},
   "outputs": [
    {
     "data": {
      "text/html": [
       "<div>\n",
       "<style scoped>\n",
       "    .dataframe tbody tr th:only-of-type {\n",
       "        vertical-align: middle;\n",
       "    }\n",
       "\n",
       "    .dataframe tbody tr th {\n",
       "        vertical-align: top;\n",
       "    }\n",
       "\n",
       "    .dataframe thead th {\n",
       "        text-align: right;\n",
       "    }\n",
       "</style>\n",
       "<table border=\"1\" class=\"dataframe\">\n",
       "  <thead>\n",
       "    <tr style=\"text-align: right;\">\n",
       "      <th></th>\n",
       "      <th>match_id</th>\n",
       "      <th>innings</th>\n",
       "      <th>venue</th>\n",
       "      <th>batting_team</th>\n",
       "      <th>bowling_team</th>\n",
       "      <th>ball</th>\n",
       "      <th>overno</th>\n",
       "      <th>ballno</th>\n",
       "      <th>total_runs</th>\n",
       "      <th>player_dismissed</th>\n",
       "      <th>...</th>\n",
       "      <th>ball_left</th>\n",
       "      <th>inning_total</th>\n",
       "      <th>cum_sum</th>\n",
       "      <th>remaining_runs</th>\n",
       "      <th>prev_30_balls_runs</th>\n",
       "      <th>player_dismissed_in_last_30balls</th>\n",
       "      <th>cum_wkts</th>\n",
       "      <th>wkts_left</th>\n",
       "      <th>dot_in_prev_30balls</th>\n",
       "      <th>boundaries_prev_30balls</th>\n",
       "    </tr>\n",
       "  </thead>\n",
       "  <tbody>\n",
       "    <tr>\n",
       "      <th>0</th>\n",
       "      <td>335982</td>\n",
       "      <td>1</td>\n",
       "      <td>M Chinnaswamy Stadium</td>\n",
       "      <td>Kolkata Knight Riders</td>\n",
       "      <td>Royal Challengers Bangalore</td>\n",
       "      <td>0.1</td>\n",
       "      <td>0</td>\n",
       "      <td>1</td>\n",
       "      <td>1</td>\n",
       "      <td>0</td>\n",
       "      <td>...</td>\n",
       "      <td>119</td>\n",
       "      <td>222</td>\n",
       "      <td>1</td>\n",
       "      <td>221</td>\n",
       "      <td>1</td>\n",
       "      <td>0</td>\n",
       "      <td>0</td>\n",
       "      <td>10</td>\n",
       "      <td>0</td>\n",
       "      <td>0</td>\n",
       "    </tr>\n",
       "    <tr>\n",
       "      <th>1</th>\n",
       "      <td>335982</td>\n",
       "      <td>1</td>\n",
       "      <td>M Chinnaswamy Stadium</td>\n",
       "      <td>Kolkata Knight Riders</td>\n",
       "      <td>Royal Challengers Bangalore</td>\n",
       "      <td>0.2</td>\n",
       "      <td>0</td>\n",
       "      <td>2</td>\n",
       "      <td>0</td>\n",
       "      <td>0</td>\n",
       "      <td>...</td>\n",
       "      <td>118</td>\n",
       "      <td>222</td>\n",
       "      <td>1</td>\n",
       "      <td>221</td>\n",
       "      <td>1</td>\n",
       "      <td>0</td>\n",
       "      <td>0</td>\n",
       "      <td>10</td>\n",
       "      <td>1</td>\n",
       "      <td>0</td>\n",
       "    </tr>\n",
       "    <tr>\n",
       "      <th>2</th>\n",
       "      <td>335982</td>\n",
       "      <td>1</td>\n",
       "      <td>M Chinnaswamy Stadium</td>\n",
       "      <td>Kolkata Knight Riders</td>\n",
       "      <td>Royal Challengers Bangalore</td>\n",
       "      <td>0.3</td>\n",
       "      <td>0</td>\n",
       "      <td>3</td>\n",
       "      <td>1</td>\n",
       "      <td>0</td>\n",
       "      <td>...</td>\n",
       "      <td>118</td>\n",
       "      <td>222</td>\n",
       "      <td>2</td>\n",
       "      <td>220</td>\n",
       "      <td>2</td>\n",
       "      <td>0</td>\n",
       "      <td>0</td>\n",
       "      <td>10</td>\n",
       "      <td>1</td>\n",
       "      <td>0</td>\n",
       "    </tr>\n",
       "    <tr>\n",
       "      <th>3</th>\n",
       "      <td>335982</td>\n",
       "      <td>1</td>\n",
       "      <td>M Chinnaswamy Stadium</td>\n",
       "      <td>Kolkata Knight Riders</td>\n",
       "      <td>Royal Challengers Bangalore</td>\n",
       "      <td>0.4</td>\n",
       "      <td>0</td>\n",
       "      <td>4</td>\n",
       "      <td>0</td>\n",
       "      <td>0</td>\n",
       "      <td>...</td>\n",
       "      <td>117</td>\n",
       "      <td>222</td>\n",
       "      <td>2</td>\n",
       "      <td>220</td>\n",
       "      <td>2</td>\n",
       "      <td>0</td>\n",
       "      <td>0</td>\n",
       "      <td>10</td>\n",
       "      <td>2</td>\n",
       "      <td>0</td>\n",
       "    </tr>\n",
       "  </tbody>\n",
       "</table>\n",
       "<p>4 rows × 21 columns</p>\n",
       "</div>"
      ],
      "text/plain": [
       "   match_id  innings                  venue           batting_team  \\\n",
       "0    335982        1  M Chinnaswamy Stadium  Kolkata Knight Riders   \n",
       "1    335982        1  M Chinnaswamy Stadium  Kolkata Knight Riders   \n",
       "2    335982        1  M Chinnaswamy Stadium  Kolkata Knight Riders   \n",
       "3    335982        1  M Chinnaswamy Stadium  Kolkata Knight Riders   \n",
       "\n",
       "                  bowling_team  ball  overno  ballno  total_runs  \\\n",
       "0  Royal Challengers Bangalore   0.1       0       1           1   \n",
       "1  Royal Challengers Bangalore   0.2       0       2           0   \n",
       "2  Royal Challengers Bangalore   0.3       0       3           1   \n",
       "3  Royal Challengers Bangalore   0.4       0       4           0   \n",
       "\n",
       "   player_dismissed  ...  ball_left  inning_total  cum_sum  remaining_runs  \\\n",
       "0                 0  ...        119           222        1             221   \n",
       "1                 0  ...        118           222        1             221   \n",
       "2                 0  ...        118           222        2             220   \n",
       "3                 0  ...        117           222        2             220   \n",
       "\n",
       "   prev_30_balls_runs  player_dismissed_in_last_30balls  cum_wkts  wkts_left  \\\n",
       "0                   1                                 0         0         10   \n",
       "1                   1                                 0         0         10   \n",
       "2                   2                                 0         0         10   \n",
       "3                   2                                 0         0         10   \n",
       "\n",
       "   dot_in_prev_30balls  boundaries_prev_30balls  \n",
       "0                    0                        0  \n",
       "1                    1                        0  \n",
       "2                    1                        0  \n",
       "3                    2                        0  \n",
       "\n",
       "[4 rows x 21 columns]"
      ]
     },
     "execution_count": 11,
     "metadata": {},
     "output_type": "execute_result"
    }
   ],
   "source": [
    "df.head(4)"
   ]
  },
  {
   "cell_type": "markdown",
   "id": "63098e2c",
   "metadata": {},
   "source": [
    "## Columns in a Data Frame"
   ]
  },
  {
   "cell_type": "code",
   "execution_count": 12,
   "id": "124ac765",
   "metadata": {},
   "outputs": [
    {
     "data": {
      "text/plain": [
       "Index(['match_id', 'innings', 'venue', 'batting_team', 'bowling_team', 'ball',\n",
       "       'overno', 'ballno', 'total_runs', 'player_dismissed', 'cum_ball',\n",
       "       'ball_left', 'inning_total', 'cum_sum', 'remaining_runs',\n",
       "       'prev_30_balls_runs', 'player_dismissed_in_last_30balls', 'cum_wkts',\n",
       "       'wkts_left', 'dot_in_prev_30balls', 'boundaries_prev_30balls'],\n",
       "      dtype='object')"
      ]
     },
     "execution_count": 12,
     "metadata": {},
     "output_type": "execute_result"
    }
   ],
   "source": [
    "df.columns"
   ]
  },
  {
   "cell_type": "markdown",
   "id": "d273ea1c",
   "metadata": {},
   "source": [
    "## Features selected for training and testing"
   ]
  },
  {
   "cell_type": "code",
   "execution_count": 13,
   "id": "85d4d7c1",
   "metadata": {},
   "outputs": [],
   "source": [
    "df=df[['match_id','innings','venue','batting_team', 'bowling_team','ball_left', 'cum_sum','prev_30_balls_runs',\n",
    "       'player_dismissed_in_last_30balls','wkts_left','dot_in_prev_30balls',\n",
    "       'boundaries_prev_30balls','remaining_runs'\n",
    "      ]]"
   ]
  },
  {
   "cell_type": "code",
   "execution_count": 14,
   "id": "5c268a00",
   "metadata": {},
   "outputs": [
    {
     "data": {
      "text/html": [
       "<div>\n",
       "<style scoped>\n",
       "    .dataframe tbody tr th:only-of-type {\n",
       "        vertical-align: middle;\n",
       "    }\n",
       "\n",
       "    .dataframe tbody tr th {\n",
       "        vertical-align: top;\n",
       "    }\n",
       "\n",
       "    .dataframe thead th {\n",
       "        text-align: right;\n",
       "    }\n",
       "</style>\n",
       "<table border=\"1\" class=\"dataframe\">\n",
       "  <thead>\n",
       "    <tr style=\"text-align: right;\">\n",
       "      <th></th>\n",
       "      <th>match_id</th>\n",
       "      <th>innings</th>\n",
       "      <th>venue</th>\n",
       "      <th>batting_team</th>\n",
       "      <th>bowling_team</th>\n",
       "      <th>ball_left</th>\n",
       "      <th>cum_sum</th>\n",
       "      <th>prev_30_balls_runs</th>\n",
       "      <th>player_dismissed_in_last_30balls</th>\n",
       "      <th>wkts_left</th>\n",
       "      <th>dot_in_prev_30balls</th>\n",
       "      <th>boundaries_prev_30balls</th>\n",
       "      <th>remaining_runs</th>\n",
       "    </tr>\n",
       "  </thead>\n",
       "  <tbody>\n",
       "    <tr>\n",
       "      <th>0</th>\n",
       "      <td>335982</td>\n",
       "      <td>1</td>\n",
       "      <td>M Chinnaswamy Stadium</td>\n",
       "      <td>Kolkata Knight Riders</td>\n",
       "      <td>Royal Challengers Bangalore</td>\n",
       "      <td>119</td>\n",
       "      <td>1</td>\n",
       "      <td>1</td>\n",
       "      <td>0</td>\n",
       "      <td>10</td>\n",
       "      <td>0</td>\n",
       "      <td>0</td>\n",
       "      <td>221</td>\n",
       "    </tr>\n",
       "    <tr>\n",
       "      <th>1</th>\n",
       "      <td>335982</td>\n",
       "      <td>1</td>\n",
       "      <td>M Chinnaswamy Stadium</td>\n",
       "      <td>Kolkata Knight Riders</td>\n",
       "      <td>Royal Challengers Bangalore</td>\n",
       "      <td>118</td>\n",
       "      <td>1</td>\n",
       "      <td>1</td>\n",
       "      <td>0</td>\n",
       "      <td>10</td>\n",
       "      <td>1</td>\n",
       "      <td>0</td>\n",
       "      <td>221</td>\n",
       "    </tr>\n",
       "    <tr>\n",
       "      <th>2</th>\n",
       "      <td>335982</td>\n",
       "      <td>1</td>\n",
       "      <td>M Chinnaswamy Stadium</td>\n",
       "      <td>Kolkata Knight Riders</td>\n",
       "      <td>Royal Challengers Bangalore</td>\n",
       "      <td>118</td>\n",
       "      <td>2</td>\n",
       "      <td>2</td>\n",
       "      <td>0</td>\n",
       "      <td>10</td>\n",
       "      <td>1</td>\n",
       "      <td>0</td>\n",
       "      <td>220</td>\n",
       "    </tr>\n",
       "    <tr>\n",
       "      <th>3</th>\n",
       "      <td>335982</td>\n",
       "      <td>1</td>\n",
       "      <td>M Chinnaswamy Stadium</td>\n",
       "      <td>Kolkata Knight Riders</td>\n",
       "      <td>Royal Challengers Bangalore</td>\n",
       "      <td>117</td>\n",
       "      <td>2</td>\n",
       "      <td>2</td>\n",
       "      <td>0</td>\n",
       "      <td>10</td>\n",
       "      <td>2</td>\n",
       "      <td>0</td>\n",
       "      <td>220</td>\n",
       "    </tr>\n",
       "  </tbody>\n",
       "</table>\n",
       "</div>"
      ],
      "text/plain": [
       "   match_id  innings                  venue           batting_team  \\\n",
       "0    335982        1  M Chinnaswamy Stadium  Kolkata Knight Riders   \n",
       "1    335982        1  M Chinnaswamy Stadium  Kolkata Knight Riders   \n",
       "2    335982        1  M Chinnaswamy Stadium  Kolkata Knight Riders   \n",
       "3    335982        1  M Chinnaswamy Stadium  Kolkata Knight Riders   \n",
       "\n",
       "                  bowling_team  ball_left  cum_sum  prev_30_balls_runs  \\\n",
       "0  Royal Challengers Bangalore        119        1                   1   \n",
       "1  Royal Challengers Bangalore        118        1                   1   \n",
       "2  Royal Challengers Bangalore        118        2                   2   \n",
       "3  Royal Challengers Bangalore        117        2                   2   \n",
       "\n",
       "   player_dismissed_in_last_30balls  wkts_left  dot_in_prev_30balls  \\\n",
       "0                                 0         10                    0   \n",
       "1                                 0         10                    1   \n",
       "2                                 0         10                    1   \n",
       "3                                 0         10                    2   \n",
       "\n",
       "   boundaries_prev_30balls  remaining_runs  \n",
       "0                        0             221  \n",
       "1                        0             221  \n",
       "2                        0             220  \n",
       "3                        0             220  "
      ]
     },
     "execution_count": 14,
     "metadata": {},
     "output_type": "execute_result"
    }
   ],
   "source": [
    "df.head(4)"
   ]
  },
  {
   "cell_type": "code",
   "execution_count": 16,
   "id": "7301fad4",
   "metadata": {},
   "outputs": [],
   "source": [
    "X = df.drop(['match_id','remaining_runs'],axis=1)\n",
    "Y = df['remaining_runs'].values"
   ]
  },
  {
   "cell_type": "code",
   "execution_count": 17,
   "id": "94729398",
   "metadata": {},
   "outputs": [
    {
     "data": {
      "text/plain": [
       "array([221, 221, 220, ...,   7,   6,   0])"
      ]
     },
     "execution_count": 17,
     "metadata": {},
     "output_type": "execute_result"
    }
   ],
   "source": [
    "Y"
   ]
  },
  {
   "cell_type": "markdown",
   "id": "f0924236",
   "metadata": {},
   "source": [
    "## Train test split"
   ]
  },
  {
   "cell_type": "code",
   "execution_count": 18,
   "id": "b0d84143",
   "metadata": {},
   "outputs": [],
   "source": [
    "X_train,X_test,Y_train,Y_test = train_test_split(X, Y, test_size = 0.33, random_state = 42)"
   ]
  },
  {
   "cell_type": "code",
   "execution_count": 19,
   "id": "acc86481",
   "metadata": {},
   "outputs": [
    {
     "data": {
      "text/plain": [
       "(73351, 11)"
      ]
     },
     "execution_count": 19,
     "metadata": {},
     "output_type": "execute_result"
    }
   ],
   "source": [
    "X_test.shape"
   ]
  },
  {
   "cell_type": "code",
   "execution_count": 20,
   "id": "75c1e7b3",
   "metadata": {},
   "outputs": [],
   "source": [
    "from sklearn.compose import ColumnTransformer\n",
    "from sklearn.preprocessing import OneHotEncoder\n",
    "from sklearn.pipeline import Pipeline\n",
    "from sklearn.preprocessing import StandardScaler\n",
    "# !pip install xgboost\n",
    "from xgboost import XGBRegressor\n",
    "from sklearn.metrics import r2_score, mean_absolute_error"
   ]
  },
  {
   "cell_type": "code",
   "execution_count": 21,
   "id": "ccbc5182",
   "metadata": {},
   "outputs": [],
   "source": [
    "trf = ColumnTransformer([\n",
    "('trf', OneHotEncoder (sparse=False, drop='first'), ['batting_team' , 'bowling_team','venue' ])]\n",
    ", remainder='passthrough')"
   ]
  },
  {
   "cell_type": "code",
   "execution_count": 25,
   "id": "d1cc1299",
   "metadata": {},
   "outputs": [],
   "source": [
    "pipe = Pipeline(steps=[\n",
    "('step1', trf),\n",
    "('step2', StandardScaler()),\n",
    "('step3', XGBRegressor (n_estimators=1000, learning_rate=0.2, max_depth=12, random_state=1)),\n",
    "   \n",
    "])"
   ]
  },
  {
   "cell_type": "markdown",
   "id": "ece27378",
   "metadata": {},
   "source": [
    "## Train and Save the model"
   ]
  },
  {
   "cell_type": "code",
   "execution_count": 26,
   "id": "5d9a6c2d",
   "metadata": {},
   "outputs": [],
   "source": [
    "pipe.fit(X_train, Y_train)\n",
    "file_name = 'score_pred.pkl'\n",
    "pickle.dump(pipe,open(file_name,'wb'))"
   ]
  },
  {
   "cell_type": "code",
   "execution_count": 27,
   "id": "d64b27e2",
   "metadata": {},
   "outputs": [
    {
     "name": "stdout",
     "output_type": "stream",
     "text": [
      "0.9865338298109955\n",
      "3.1379149753449167\n"
     ]
    }
   ],
   "source": [
    "prediction = pipe.predict(X_test)\n",
    "print(r2_score(Y_test, prediction))\n",
    "print(mean_absolute_error(Y_test,prediction))"
   ]
  },
  {
   "cell_type": "markdown",
   "id": "08426919",
   "metadata": {},
   "source": [
    "## Predict"
   ]
  },
  {
   "cell_type": "code",
   "execution_count": 103,
   "id": "c9a87545",
   "metadata": {},
   "outputs": [
    {
     "name": "stdout",
     "output_type": "stream",
     "text": [
      "214 to 220\n"
     ]
    },
    {
     "data": {
      "text/html": [
       "<div>\n",
       "<style scoped>\n",
       "    .dataframe tbody tr th:only-of-type {\n",
       "        vertical-align: middle;\n",
       "    }\n",
       "\n",
       "    .dataframe tbody tr th {\n",
       "        vertical-align: top;\n",
       "    }\n",
       "\n",
       "    .dataframe thead th {\n",
       "        text-align: right;\n",
       "    }\n",
       "</style>\n",
       "<table border=\"1\" class=\"dataframe\">\n",
       "  <thead>\n",
       "    <tr style=\"text-align: right;\">\n",
       "      <th></th>\n",
       "      <th>innings</th>\n",
       "      <th>venue</th>\n",
       "      <th>batting_team</th>\n",
       "      <th>bowling_team</th>\n",
       "      <th>ball_left</th>\n",
       "      <th>cum_sum</th>\n",
       "      <th>prev_30_balls_runs</th>\n",
       "      <th>player_dismissed_in_last_30balls</th>\n",
       "      <th>wkts_left</th>\n",
       "      <th>dot_in_prev_30balls</th>\n",
       "      <th>boundaries_prev_30balls</th>\n",
       "      <th>total_Score</th>\n",
       "    </tr>\n",
       "  </thead>\n",
       "  <tbody>\n",
       "    <tr>\n",
       "      <th>0</th>\n",
       "      <td>1</td>\n",
       "      <td>Wankhede Stadium</td>\n",
       "      <td>Mumbai Indians</td>\n",
       "      <td>Chennai Super Kings</td>\n",
       "      <td>30</td>\n",
       "      <td>168</td>\n",
       "      <td>45</td>\n",
       "      <td>2</td>\n",
       "      <td>8</td>\n",
       "      <td>5</td>\n",
       "      <td>6</td>\n",
       "      <td>217</td>\n",
       "    </tr>\n",
       "  </tbody>\n",
       "</table>\n",
       "</div>"
      ],
      "text/plain": [
       "   innings             venue    batting_team         bowling_team  ball_left  \\\n",
       "0        1  Wankhede Stadium  Mumbai Indians  Chennai Super Kings         30   \n",
       "\n",
       "   cum_sum  prev_30_balls_runs  player_dismissed_in_last_30balls  wkts_left  \\\n",
       "0      168                  45                                 2          8   \n",
       "\n",
       "   dot_in_prev_30balls  boundaries_prev_30balls  total_Score  \n",
       "0                    5                        6          217  "
      ]
     },
     "execution_count": 103,
     "metadata": {},
     "output_type": "execute_result"
    }
   ],
   "source": [
    "\n",
    "Bat_Team = 'Mumbai Indians' \n",
    "\n",
    "Ball_Team = 'Chennai Super Kings' \n",
    "\n",
    "inning = 1\n",
    "\n",
    "venue='Wankhede Stadium'\n",
    "\n",
    "total_score = 168 # current score\n",
    "\n",
    "ball_left = 30\n",
    "\n",
    "prev_runs_30 = 45 # runs in last 30 balls\n",
    "\n",
    "wkts_left=8\n",
    "\n",
    "prev_wickets_30 = 2 # wickets in last 30 balls\n",
    "\n",
    "prev_30_dot_balls = 5 # dots in last 30 balls\n",
    "\n",
    "prev_30_boundaries = 6 # boundaries in last 30 balls\n",
    "\n",
    "data={'innings':[inning],\n",
    "      'venue':[venue],\n",
    "      'batting_team': [Bat_Team],\n",
    "      'bowling_team': [Ball_Team], \n",
    "      'ball_left':[ball_left],\n",
    "      'cum_sum': [total_score], \n",
    "      'prev_30_balls_runs': [prev_runs_30], \n",
    "      'player_dismissed_in_last_30balls': [prev_wickets_30],\n",
    "      'wkts_left': [wkts_left],\n",
    "      'dot_in_prev_30balls':[prev_30_dot_balls],\n",
    "      'boundaries_prev_30balls':[prev_30_boundaries]}\n",
    "\n",
    "input_df = pd.DataFrame.from_dict(data)\n",
    "result = pipe.predict(input_df)\n",
    "if wkts_left==0 or ball_left==0:\n",
    "    input_df['total_Score']= total_score\n",
    "elif int(result)<0:\n",
    "    input_df['total_Score']= (int(result)*(-1))+total_score\n",
    "else:\n",
    "    input_df['total_Score']= (int(result))+total_score\n",
    "\n",
    "min=total_score+int(result)\n",
    "if (int(result))+total_score-3>=total_score:\n",
    "    min=(int(result))+total_score-3\n",
    "    \n",
    "print(min, 'to', (int(result))+total_score+3)\n",
    "input_df.head(1)\n",
    "\n",
    "\n",
    "\n",
    "\n",
    "\n",
    "\n"
   ]
  },
  {
   "cell_type": "code",
   "execution_count": null,
   "id": "997e93a0",
   "metadata": {},
   "outputs": [],
   "source": []
  }
 ],
 "metadata": {
  "kernelspec": {
   "display_name": "Python 3 (ipykernel)",
   "language": "python",
   "name": "python3"
  },
  "language_info": {
   "codemirror_mode": {
    "name": "ipython",
    "version": 3
   },
   "file_extension": ".py",
   "mimetype": "text/x-python",
   "name": "python",
   "nbconvert_exporter": "python",
   "pygments_lexer": "ipython3",
   "version": "3.9.7"
  }
 },
 "nbformat": 4,
 "nbformat_minor": 5
}
