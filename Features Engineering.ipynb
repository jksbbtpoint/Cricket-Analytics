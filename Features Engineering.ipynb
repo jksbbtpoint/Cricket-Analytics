{
 "cells": [
  {
   "cell_type": "markdown",
   "id": "7a9b1d2e",
   "metadata": {},
   "source": [
    "## Predicting Score using ML"
   ]
  },
  {
   "cell_type": "code",
   "execution_count": null,
   "id": "d9bf268a",
   "metadata": {},
   "outputs": [],
   "source": [
    "import math\n",
    "import pandas as pd\n",
    "import numpy as np\n",
    "\n",
    "import warnings\n",
    "warnings.filterwarnings('ignore')\n",
    "pd.set_option('display.max_rows', None)\n",
    "\n",
    "\n",
    "pd.set_option('display.max_columns', None)\n",
    "pd.set_option('display.expand_frame_repr', False)\n",
    "pd.set_option('max_colwidth', -1)\n",
    "\n",
    "import matplotlib.pyplot as plt"
   ]
  },
  {
   "cell_type": "code",
   "execution_count": null,
   "id": "884a96af",
   "metadata": {},
   "outputs": [],
   "source": [
    "match_ipl= pd.read_csv(\"ipl_csv2/all_matches.csv\")"
   ]
  },
  {
   "cell_type": "code",
   "execution_count": null,
   "id": "f0ac2da5",
   "metadata": {},
   "outputs": [],
   "source": [
    "df = match_ipl.copy()"
   ]
  },
  {
   "cell_type": "code",
   "execution_count": null,
   "id": "092c94a1",
   "metadata": {},
   "outputs": [],
   "source": [
    "df.head(1)"
   ]
  },
  {
   "cell_type": "markdown",
   "id": "5bd6aaa7",
   "metadata": {},
   "source": [
    "## Columns"
   ]
  },
  {
   "cell_type": "code",
   "execution_count": null,
   "id": "828f5620",
   "metadata": {},
   "outputs": [],
   "source": [
    "df.columns"
   ]
  },
  {
   "cell_type": "code",
   "execution_count": null,
   "id": "ef943b27",
   "metadata": {},
   "outputs": [],
   "source": [
    "# df.sort_values(['match_id','innings'],ascending=[True,True])"
   ]
  },
  {
   "cell_type": "markdown",
   "id": "2ec5bc13",
   "metadata": {},
   "source": [
    "## Split over and ball in separate column"
   ]
  },
  {
   "cell_type": "code",
   "execution_count": null,
   "id": "16164025",
   "metadata": {},
   "outputs": [],
   "source": [
    "df['over']=df['ball'].astype(str)"
   ]
  },
  {
   "cell_type": "code",
   "execution_count": null,
   "id": "eddc3691",
   "metadata": {},
   "outputs": [],
   "source": [
    "df['over']=df['over'].str.replace('.','')"
   ]
  },
  {
   "cell_type": "code",
   "execution_count": null,
   "id": "e0360204",
   "metadata": {},
   "outputs": [],
   "source": [
    "df['overno']=df['over'].str[:-1]"
   ]
  },
  {
   "cell_type": "code",
   "execution_count": null,
   "id": "816d0984",
   "metadata": {},
   "outputs": [],
   "source": [
    "df['ballno']=df['over'].str[-1:]"
   ]
  },
  {
   "cell_type": "code",
   "execution_count": null,
   "id": "0430cd42",
   "metadata": {},
   "outputs": [],
   "source": [
    "df['total_runs']=df['runs_off_bat']+df['extras']"
   ]
  },
  {
   "cell_type": "code",
   "execution_count": null,
   "id": "fc223b8c",
   "metadata": {},
   "outputs": [],
   "source": [
    "df.head(2)"
   ]
  },
  {
   "cell_type": "code",
   "execution_count": null,
   "id": "e279d692",
   "metadata": {},
   "outputs": [],
   "source": [
    "df['isvalidball']=df['wides']+df['noballs']"
   ]
  },
  {
   "cell_type": "code",
   "execution_count": null,
   "id": "c473a589",
   "metadata": {},
   "outputs": [],
   "source": [
    "df['isvalidball']=df['isvalidball'].fillna(0)"
   ]
  },
  {
   "cell_type": "code",
   "execution_count": null,
   "id": "48e218be",
   "metadata": {},
   "outputs": [],
   "source": [
    "df['isvalidball']=1"
   ]
  },
  {
   "cell_type": "code",
   "execution_count": null,
   "id": "0bb4cb54",
   "metadata": {},
   "outputs": [],
   "source": [
    "df['isvalidball']=np.where((df['wides']>=1) | (df['noballs']>=1),0,1)"
   ]
  },
  {
   "cell_type": "code",
   "execution_count": null,
   "id": "5e25943d",
   "metadata": {},
   "outputs": [],
   "source": [
    "df['cum_ball']=df.groupby(['match_id','innings'])['isvalidball'].apply(lambda x : x.cumsum())"
   ]
  },
  {
   "cell_type": "code",
   "execution_count": null,
   "id": "05ca925f",
   "metadata": {},
   "outputs": [],
   "source": [
    "df['ball_left']=120-df['cum_ball']"
   ]
  },
  {
   "cell_type": "markdown",
   "id": "0b599b86",
   "metadata": {},
   "source": [
    "## Select columns"
   ]
  },
  {
   "cell_type": "code",
   "execution_count": null,
   "id": "246e9cfb",
   "metadata": {},
   "outputs": [],
   "source": [
    "df = df[['match_id','innings','venue','batting_team','bowling_team','ball','overno','ballno','total_runs','player_dismissed','cum_ball','ball_left']]"
   ]
  },
  {
   "cell_type": "code",
   "execution_count": null,
   "id": "8e84e173",
   "metadata": {},
   "outputs": [],
   "source": [
    "df.head(2)"
   ]
  },
  {
   "cell_type": "code",
   "execution_count": null,
   "id": "f33693b7",
   "metadata": {},
   "outputs": [],
   "source": [
    "df = df.replace(np.nan,0)"
   ]
  },
  {
   "cell_type": "code",
   "execution_count": null,
   "id": "09b409f1",
   "metadata": {},
   "outputs": [],
   "source": [
    "df.head(2)"
   ]
  },
  {
   "cell_type": "markdown",
   "id": "3454cb6c",
   "metadata": {},
   "source": [
    "## Total Runs in inning "
   ]
  },
  {
   "cell_type": "code",
   "execution_count": null,
   "id": "85eed199",
   "metadata": {},
   "outputs": [],
   "source": [
    "df.groupby(['match_id','innings'])['total_runs'].transform(sum)"
   ]
  },
  {
   "cell_type": "code",
   "execution_count": null,
   "id": "51ce252d",
   "metadata": {},
   "outputs": [],
   "source": [
    "df['inning_total']=df.groupby(['match_id','innings'])['total_runs'].transform(sum)"
   ]
  },
  {
   "cell_type": "code",
   "execution_count": null,
   "id": "b84247f6",
   "metadata": {},
   "outputs": [],
   "source": [
    "df.head(2)"
   ]
  },
  {
   "cell_type": "markdown",
   "id": "dcb38d8c",
   "metadata": {},
   "source": [
    "## Cumulative runs"
   ]
  },
  {
   "cell_type": "code",
   "execution_count": null,
   "id": "78a877f2",
   "metadata": {},
   "outputs": [],
   "source": [
    "df['cum_sum']=df.groupby(['match_id','innings'])['total_runs'].apply(lambda x : x.cumsum())"
   ]
  },
  {
   "cell_type": "code",
   "execution_count": null,
   "id": "35438cd3",
   "metadata": {},
   "outputs": [],
   "source": [
    "df.head(2)"
   ]
  },
  {
   "cell_type": "code",
   "execution_count": null,
   "id": "d58b91ad",
   "metadata": {},
   "outputs": [],
   "source": [
    "df['remaining_runs'] = df['inning_total']-df['cum_sum']"
   ]
  },
  {
   "cell_type": "code",
   "execution_count": null,
   "id": "f8a32bdd",
   "metadata": {},
   "outputs": [],
   "source": [
    "df.head(4)"
   ]
  },
  {
   "cell_type": "markdown",
   "id": "4706d0df",
   "metadata": {},
   "source": [
    "## Runs in previous 30 balls"
   ]
  },
  {
   "cell_type": "code",
   "execution_count": null,
   "id": "a7e87815",
   "metadata": {},
   "outputs": [],
   "source": [
    "tmp=df.groupby(['match_id','innings'])['total_runs'].rolling(min_periods=1,window=30).sum().reset_index()"
   ]
  },
  {
   "cell_type": "code",
   "execution_count": null,
   "id": "e9cbb83b",
   "metadata": {},
   "outputs": [],
   "source": [
    "tmp[['total_runs']]"
   ]
  },
  {
   "cell_type": "code",
   "execution_count": null,
   "id": "2afcad67",
   "metadata": {},
   "outputs": [],
   "source": [
    "df['prev_30_balls_runs']=tmp['total_runs'].tolist()"
   ]
  },
  {
   "cell_type": "code",
   "execution_count": null,
   "id": "eeb07dcc",
   "metadata": {},
   "outputs": [],
   "source": [
    "df.head(2)"
   ]
  },
  {
   "cell_type": "markdown",
   "id": "f76a0fe2",
   "metadata": {},
   "source": [
    "## Wickets in previous 30 balls"
   ]
  },
  {
   "cell_type": "code",
   "execution_count": null,
   "id": "a830adb9",
   "metadata": {},
   "outputs": [],
   "source": [
    "df['player_dismissed'] = np.where(df['player_dismissed']==0,0,1)"
   ]
  },
  {
   "cell_type": "code",
   "execution_count": null,
   "id": "bed4a2f0",
   "metadata": {},
   "outputs": [],
   "source": [
    "tmp_wkts=df.groupby(['match_id','innings'])['player_dismissed'].rolling(min_periods=1,window=30).sum().reset_index()"
   ]
  },
  {
   "cell_type": "code",
   "execution_count": null,
   "id": "958e5601",
   "metadata": {},
   "outputs": [],
   "source": [
    "df['player_dismissed_in_last_30balls']=tmp_wkts['player_dismissed'].tolist()"
   ]
  },
  {
   "cell_type": "code",
   "execution_count": null,
   "id": "f40283d9",
   "metadata": {},
   "outputs": [],
   "source": [
    "df.head(2)"
   ]
  },
  {
   "cell_type": "markdown",
   "id": "1b10fffc",
   "metadata": {},
   "source": [
    "## Cumulative wickets"
   ]
  },
  {
   "cell_type": "code",
   "execution_count": null,
   "id": "bc5c19d0",
   "metadata": {},
   "outputs": [],
   "source": [
    "df['cum_wkts']=df.groupby(['match_id','innings'])['player_dismissed'].apply(lambda x:x.cumsum())"
   ]
  },
  {
   "cell_type": "code",
   "execution_count": null,
   "id": "93d2fff7",
   "metadata": {},
   "outputs": [],
   "source": [
    "df['wkts_left']=10-df['cum_wkts']"
   ]
  },
  {
   "cell_type": "code",
   "execution_count": null,
   "id": "24390bef",
   "metadata": {},
   "outputs": [],
   "source": [
    "df.head(2)"
   ]
  },
  {
   "cell_type": "markdown",
   "id": "fcddfa29",
   "metadata": {},
   "source": [
    "## Dot balls in previous 30 balls"
   ]
  },
  {
   "cell_type": "code",
   "execution_count": null,
   "id": "17b95582",
   "metadata": {},
   "outputs": [],
   "source": [
    "df['dot_in_prev_30balls']=np.where(df['total_runs']==0,1,0)"
   ]
  },
  {
   "cell_type": "code",
   "execution_count": null,
   "id": "7080926c",
   "metadata": {},
   "outputs": [],
   "source": [
    "tmp_dot = df.groupby(['match_id','innings'])['dot_in_prev_30balls'].rolling(min_periods=1,window=30).sum().reset_index()"
   ]
  },
  {
   "cell_type": "code",
   "execution_count": null,
   "id": "f2df7009",
   "metadata": {},
   "outputs": [],
   "source": [
    "df['dot_in_prev_30balls']=tmp_dot['dot_in_prev_30balls'].tolist()"
   ]
  },
  {
   "cell_type": "code",
   "execution_count": null,
   "id": "31981108",
   "metadata": {},
   "outputs": [],
   "source": [
    "df.head(2)"
   ]
  },
  {
   "cell_type": "markdown",
   "id": "38fd796e",
   "metadata": {},
   "source": [
    "## Boundaries in previous 30 balls"
   ]
  },
  {
   "cell_type": "code",
   "execution_count": null,
   "id": "a3a31d2f",
   "metadata": {},
   "outputs": [],
   "source": [
    "df['boundaries_prev_30balls']=np.where(df['total_runs']>3,1,0)"
   ]
  },
  {
   "cell_type": "code",
   "execution_count": null,
   "id": "e09dd049",
   "metadata": {},
   "outputs": [],
   "source": [
    "tmp_bound=df.groupby(['match_id','innings'])['boundaries_prev_30balls'].rolling(min_periods=1,window=30).sum().reset_index()"
   ]
  },
  {
   "cell_type": "code",
   "execution_count": null,
   "id": "85529ee2",
   "metadata": {},
   "outputs": [],
   "source": [
    "df['boundaries_prev_30balls']=tmp_bound['boundaries_prev_30balls'].tolist()"
   ]
  },
  {
   "cell_type": "code",
   "execution_count": null,
   "id": "2990ee22",
   "metadata": {},
   "outputs": [],
   "source": [
    "df.head(2)"
   ]
  },
  {
   "cell_type": "code",
   "execution_count": null,
   "id": "e161bd77",
   "metadata": {},
   "outputs": [],
   "source": [
    "convert_dict = {\n",
    "    'prev_30_balls_runs':int,\n",
    "    'player_dismissed_in_last_30balls':int,\n",
    "    'dot_in_prev_30balls':int,\n",
    "    'boundaries_prev_30balls':int\n",
    "    \n",
    "    \n",
    "}\n",
    "df = df.astype(convert_dict)"
   ]
  },
  {
   "cell_type": "code",
   "execution_count": null,
   "id": "a5e997ae",
   "metadata": {},
   "outputs": [],
   "source": [
    "df.head(5)"
   ]
  },
  {
   "cell_type": "code",
   "execution_count": null,
   "id": "247aee7e",
   "metadata": {},
   "outputs": [],
   "source": [
    "df.to_csv('IPL_DATA_FEATURES.csv',index=None)"
   ]
  },
  {
   "cell_type": "code",
   "execution_count": null,
   "id": "5f3a65f3",
   "metadata": {},
   "outputs": [],
   "source": []
  },
  {
   "cell_type": "code",
   "execution_count": null,
   "id": "2f7874f3",
   "metadata": {},
   "outputs": [],
   "source": []
  },
  {
   "cell_type": "code",
   "execution_count": null,
   "id": "54f5469b",
   "metadata": {},
   "outputs": [],
   "source": []
  },
  {
   "cell_type": "code",
   "execution_count": null,
   "id": "9ebad3cf",
   "metadata": {},
   "outputs": [],
   "source": []
  },
  {
   "cell_type": "code",
   "execution_count": null,
   "id": "7ff94f7a",
   "metadata": {},
   "outputs": [],
   "source": []
  }
 ],
 "metadata": {
  "kernelspec": {
   "display_name": "Python 3 (ipykernel)",
   "language": "python",
   "name": "python3"
  },
  "language_info": {
   "codemirror_mode": {
    "name": "ipython",
    "version": 3
   },
   "file_extension": ".py",
   "mimetype": "text/x-python",
   "name": "python",
   "nbconvert_exporter": "python",
   "pygments_lexer": "ipython3",
   "version": "3.9.7"
  }
 },
 "nbformat": 4,
 "nbformat_minor": 5
}
